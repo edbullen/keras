{
 "cells": [
  {
   "cell_type": "markdown",
   "metadata": {},
   "source": [
    "## Example of how to use a Generator with Keras ##\n",
    "Instead of loading an entire training data-set into memory, the `Model` `fit_generator()` method can be used to apply a Generator function to provide a continuous stream of data to the Keras model-fit process.\n",
    "\n",
    "https://keras.io/models/model/#fit_generator\n",
    "\n",
    "Example based on code taken from https://github.com/keras-team/keras/issues/1627"
   ]
  },
  {
   "cell_type": "markdown",
   "metadata": {},
   "source": [
    "#### Import Keras modules and the MNIST Data-Set ####"
   ]
  },
  {
   "cell_type": "code",
   "execution_count": 162,
   "metadata": {},
   "outputs": [],
   "source": [
    "from keras.datasets import mnist\n",
    "from keras.models import Sequential\n",
    "from keras.layers.core import Dense, Dropout, Activation, Flatten, Reshape\n",
    "from keras.layers.convolutional import Convolution1D, Convolution2D, MaxPooling2D\n",
    "from keras.utils import np_utils\n",
    "import numpy as np"
   ]
  },
  {
   "cell_type": "markdown",
   "metadata": {},
   "source": [
    "MNIST Data can be loaded as 2x tuples - 60000 samples of data, each 28x28 dimensions "
   ]
  },
  {
   "cell_type": "markdown",
   "metadata": {},
   "source": [
    "### Explore the data ###"
   ]
  },
  {
   "cell_type": "code",
   "execution_count": 163,
   "metadata": {},
   "outputs": [],
   "source": [
    "(X_train, y_train), (X_test, y_test) = mnist.load_data()"
   ]
  },
  {
   "cell_type": "code",
   "execution_count": 164,
   "metadata": {},
   "outputs": [
    {
     "name": "stdout",
     "output_type": "stream",
     "text": [
      "Training data shape: (60000, 28, 28)\n",
      "Training data targets (60000,)\n",
      "First 5 targets [5 0 4 1 9]\n"
     ]
    }
   ],
   "source": [
    "print(\"Training data shape:\",X_train.shape)\n",
    "print(\"Training data targets\", y_train.shape)\n",
    "print(\"First 5 targets\", y_train[:5])"
   ]
  },
  {
   "cell_type": "code",
   "execution_count": 165,
   "metadata": {},
   "outputs": [
    {
     "name": "stdout",
     "output_type": "stream",
     "text": [
      "data-type and shape for first elelement of training data \"X_train\": <class 'numpy.ndarray'> (28, 28)\n"
     ]
    }
   ],
   "source": [
    "print(\"data-type and shape for first elelement of training data \\\"X_train\\\":\", type(X_train[0]), X_train[0].shape)"
   ]
  },
  {
   "cell_type": "code",
   "execution_count": 168,
   "metadata": {},
   "outputs": [
    {
     "data": {
      "image/png": "[encoded data removed]",
      "text/plain": [
       "<matplotlib.figure.Figure at 0x21402b2b9b0>"
      ]
     },
     "metadata": {},
     "output_type": "display_data"
    }
   ],
   "source": [
    "import matplotlib.pyplot as plt\n",
    "plt.imshow(train[0][7], interpolation = 'nearest', cmap=plt.cm.binary)\n",
    "plt.title('Sample - Eighth item in the X_train data-set')\n",
    "plt.show()"
   ]
  },
  {
   "cell_type": "markdown",
   "metadata": {},
   "source": [
    "### Parameters ###"
   ]
  },
  {
   "cell_type": "code",
   "execution_count": 169,
   "metadata": {},
   "outputs": [],
   "source": [
    "batch_size = 128\n",
    "nb_classes = 10\n",
    "nb_epoch = 12\n",
    "\n",
    "# input image dimensions\n",
    "img_rows, img_cols = 28, 28\n",
    "# number of convolutional filters to use\n",
    "nb_filters = 32\n",
    "# size of pooling area for max pooling\n",
    "nb_pool = 2# convolution kernel size\n",
    "nb_conv = 3"
   ]
  },
  {
   "cell_type": "markdown",
   "metadata": {},
   "source": [
    "### Define a Generator Function ###"
   ]
  },
  {
   "cell_type": "code",
   "execution_count": 170,
   "metadata": {},
   "outputs": [],
   "source": [
    "#yields Batches of 32, each with a flattened 28x28 array for simple (non-CNN) network\n",
    "# MNIST data has a 28x28 pixel map \n",
    "def Generator_basic():\n",
    "    (X_train, y_train), (X_test, y_test) = mnist.load_data()\n",
    "    y_train = np_utils.to_categorical(y_train,10)  # 10 categories\n",
    "    #Flatten X_train to a 1-D vector for each image\n",
    "    X_train = X_train.reshape(X_train.shape[0], img_rows * img_cols)\n",
    "    X_test =  X_test.reshape(X_test.shape[0],   img_rows * img_cols) \n",
    "    #Do some normalisation of the data \n",
    "    X_train = X_train.astype('float32')\n",
    "    X_test = X_test.astype('float32')\n",
    "    X_train /= 255\n",
    "    X_test /= 255\n",
    "    #While-loop generates batches of 32 for each yield-call\n",
    "    while 1:\n",
    "        for i in range(1875): # 1875 * 32 = 60000 -> # of training samples\n",
    "            if i%125==0:\n",
    "                pass\n",
    "                #print(\"i = \" + str(i))\n",
    "            yield X_train[i*32:(i+1)*32], y_train[i*32:(i+1)*32]"
   ]
  },
  {
   "cell_type": "code",
   "execution_count": 171,
   "metadata": {},
   "outputs": [],
   "source": [
    "#yields Batches of 32\n",
    "def Generator_CNN():\n",
    "    (X_train, y_train), (X_test, y_test) = mnist.load_data()\n",
    "    y_train = np_utils.to_categorical(y_train,10)  # 10 categories\n",
    "    X_train = X_train.reshape(X_train.shape[0], 1, img_rows, img_cols)\n",
    "    X_test = X_test.reshape(X_test.shape[0], 1, img_rows, img_cols)\n",
    "    X_train = X_train.astype('float32')\n",
    "    X_test = X_test.astype('float32')\n",
    "    X_train /= 255\n",
    "    X_test /= 255\n",
    "    while 1:\n",
    "        for i in range(1875): # 1875 * 32 = 60000 -> # of training samples\n",
    "            if i%125==0:\n",
    "                print(\"i = \" + str(i))\n",
    "            yield X_train[i*32:(i+1)*32], y_train[i*32:(i+1)*32]"
   ]
  },
  {
   "cell_type": "markdown",
   "metadata": {},
   "source": [
    "#### Generator Test ####"
   ]
  },
  {
   "cell_type": "code",
   "execution_count": 180,
   "metadata": {},
   "outputs": [
    {
     "name": "stdout",
     "output_type": "stream",
     "text": [
      "Width of payload: 2 Payload[0] dims: 2 Payload[1] dims: 2\n",
      "32 32\n",
      "Width of payload: 2 Payload[0] dims: 2 Payload[1] dims: 2\n",
      "32 32\n"
     ]
    },
    {
     "data": {
      "text/plain": [
       "array([[0., 0., 0., ..., 0., 0., 0.],\n",
       "       [0., 0., 0., ..., 0., 0., 0.],\n",
       "       [0., 0., 0., ..., 0., 0., 0.],\n",
       "       ...,\n",
       "       [0., 0., 0., ..., 0., 0., 0.],\n",
       "       [0., 0., 0., ..., 0., 0., 0.],\n",
       "       [0., 0., 0., ..., 0., 0., 0.]], dtype=float32)"
      ]
     },
     "execution_count": 180,
     "metadata": {},
     "output_type": "execute_result"
    }
   ],
   "source": [
    "generator=Generator_basic()\n",
    "for i in range(0,2):\n",
    "    payload = next(generator)\n",
    "    print(\"Width of payload:\",len(payload),\"Payload[0] dims:\", np.ndim(payload[0]),\"Payload[1] dims:\", np.ndim(payload[1]))\n",
    "    print(len(payload[0]), len(payload[1]))\n",
    "    #print(payload[0])\n",
    "    #print(payload[1])\n",
    "payload[0]"
   ]
  },
  {
   "cell_type": "code",
   "execution_count": 182,
   "metadata": {},
   "outputs": [
    {
     "data": {
      "image/png": "[encoded data removed]",
      "text/plain": [
       "<matplotlib.figure.Figure at 0x214004a8c50>"
      ]
     },
     "metadata": {},
     "output_type": "display_data"
    }
   ],
   "source": [
    "plt.imshow(payload[0][0].reshape(28,28), interpolation = 'nearest', cmap=plt.cm.binary)\n",
    "plt.title('First Item in the payload - Target:' + str(payload[1][0]) )\n",
    "plt.show()\n"
   ]
  },
  {
   "cell_type": "markdown",
   "metadata": {},
   "source": [
    "### Build a Model ###"
   ]
  },
  {
   "cell_type": "markdown",
   "metadata": {},
   "source": [
    "#### Create a basic feed-forward ANN ####"
   ]
  },
  {
   "cell_type": "code",
   "execution_count": 194,
   "metadata": {},
   "outputs": [],
   "source": [
    "model = Sequential()\n",
    "model.add(Dense(img_rows * img_cols, input_dim=784, activation='relu')) \n",
    "model.add(Dense(1024, activation='relu'))\n",
    "model.add(Dense(32, activation='relu'))\n",
    "model.add(Dense(10,activation='sigmoid'))\n",
    "model.add(Activation('softmax'))"
   ]
  },
  {
   "cell_type": "markdown",
   "metadata": {},
   "source": [
    "#### Create a CNN Model ####\n",
    "To-Do"
   ]
  },
  {
   "cell_type": "code",
   "execution_count": 195,
   "metadata": {},
   "outputs": [
    {
     "data": {
      "text/plain": [
       "\"\\nWIP\\nmodel.add(Convolution2D(nb_filters, nb_conv, nb_conv,\\n                        border_mode='valid',\\n                        input_shape=(1, img_rows, img_cols)))\\nmodel.add(Activation('relu'))\\nmodel.add(Convolution2D(nb_filters, nb_conv, nb_conv))\\nmodel.add(Activation('relu'))\\nmodel.add(MaxPooling2D(pool_size=(nb_pool, nb_pool)))\\nmodel.add(Dropout(0.25))\\n\\nmodel.add(Flatten())\\nmodel.add(Dense(128))\\nmodel.add(Activation('relu'))\\nmodel.add(Dropout(0.5))\\nmodel.add(Dense(10))\\nmodel.add(Activation('softmax'))\\n\""
      ]
     },
     "execution_count": 195,
     "metadata": {},
     "output_type": "execute_result"
    }
   ],
   "source": [
    "\"\"\"\n",
    "WIP\n",
    "model.add(Convolution2D(nb_filters, nb_conv, nb_conv,\n",
    "                        border_mode='valid',\n",
    "                        input_shape=(1, img_rows, img_cols)))\n",
    "model.add(Activation('relu'))\n",
    "model.add(Convolution2D(nb_filters, nb_conv, nb_conv))\n",
    "model.add(Activation('relu'))\n",
    "model.add(MaxPooling2D(pool_size=(nb_pool, nb_pool)))\n",
    "model.add(Dropout(0.25))\n",
    "\n",
    "model.add(Flatten())\n",
    "model.add(Dense(128))\n",
    "model.add(Activation('relu'))\n",
    "model.add(Dropout(0.5))\n",
    "model.add(Dense(10))\n",
    "model.add(Activation('softmax'))\n",
    "\"\"\""
   ]
  },
  {
   "cell_type": "markdown",
   "metadata": {},
   "source": [
    "### Compile Model ###"
   ]
  },
  {
   "cell_type": "code",
   "execution_count": 196,
   "metadata": {},
   "outputs": [],
   "source": [
    "#model.compile(loss='binary_crossentropy', optimizer='adam')\n",
    "model.compile(loss='categorical_crossentropy', optimizer='adam')"
   ]
  },
  {
   "cell_type": "markdown",
   "metadata": {},
   "source": [
    "### Fit Model with a Generator ###\n",
    "\n",
    "https://keras.io/models/model/#fit_generator\n",
    "\n",
    "The steps_per_epoch parameter sets how many sets of data must be passed in from the generator before moving to the next epoc and re-running the model-fit cycle.  \n",
    "\n",
    "Only the \"step\" subset of the data processed in each epoc needs to be loaded into memory.\n"
   ]
  },
  {
   "cell_type": "code",
   "execution_count": 197,
   "metadata": {},
   "outputs": [
    {
     "name": "stdout",
     "output_type": "stream",
     "text": [
      "Epoch 1/5\n",
      "1875/1875 [==============================] - 71s 38ms/step - loss: 1.5338\n",
      "Epoch 2/5\n",
      "1875/1875 [==============================] - 69s 37ms/step - loss: 1.4955\n",
      "Epoch 3/5\n",
      "1875/1875 [==============================] - 70s 37ms/step - loss: 1.4905\n",
      "Epoch 4/5\n",
      "1875/1875 [==============================] - 70s 37ms/step - loss: 1.4876\n",
      "Epoch 5/5\n",
      "1875/1875 [==============================] - 69s 37ms/step - loss: 1.4863\n"
     ]
    }
   ],
   "source": [
    "history=model.fit_generator(Generator_basic(), steps_per_epoch = 1875, epochs = 5, verbose=1)"
   ]
  },
  {
   "cell_type": "markdown",
   "metadata": {},
   "source": [
    "### Test Predictions ###"
   ]
  },
  {
   "cell_type": "code",
   "execution_count": 198,
   "metadata": {},
   "outputs": [],
   "source": [
    "y_test_cat = np_utils.to_categorical(y_test,10)  # 10 categories\n",
    "X_test_flat = X_test.reshape(len(X_test),img_rows * img_cols)\n",
    "X_test_flat = X_test_flat.astype('float32')\n",
    "X_test_flat /= 255 #normalise 0 -> 1"
   ]
  },
  {
   "cell_type": "code",
   "execution_count": 199,
   "metadata": {},
   "outputs": [
    {
     "name": "stdout",
     "output_type": "stream",
     "text": [
      "(10000, 784)\n"
     ]
    }
   ],
   "source": [
    "print(X_test_flat.shape)"
   ]
  },
  {
   "cell_type": "code",
   "execution_count": 200,
   "metadata": {},
   "outputs": [],
   "source": [
    "test_predict = model.predict_classes(X_test_flat)"
   ]
  },
  {
   "cell_type": "code",
   "execution_count": 201,
   "metadata": {},
   "outputs": [
    {
     "data": {
      "text/plain": [
       "array([7, 2, 1, 0, 4, 1, 4, 9, 5, 9, 0, 6, 9, 0, 1, 5, 9, 7, 3, 4, 9, 6,\n",
       "       6, 5, 4], dtype=int64)"
      ]
     },
     "execution_count": 201,
     "metadata": {},
     "output_type": "execute_result"
    }
   ],
   "source": [
    "test_predict[0:25]"
   ]
  },
  {
   "cell_type": "code",
   "execution_count": 202,
   "metadata": {},
   "outputs": [
    {
     "data": {
      "image/png": "[encoded data removed]",
      "text/plain": [
       "<matplotlib.figure.Figure at 0x2140be3a2b0>"
      ]
     },
     "metadata": {},
     "output_type": "display_data"
    }
   ],
   "source": [
    "plt.figure(1)\n",
    "for i in range(1,26):\n",
    "    plt.subplot(5,5,i)\n",
    "    plt.imshow(X_test_flat[i-1].reshape(28,28), interpolation = 'nearest', cmap=plt.cm.binary)\n",
    "    plt.title('Predicted:' + str(test_predict[i-1]) )\n",
    "plt.show()"
   ]
  },
  {
   "cell_type": "markdown",
   "metadata": {},
   "source": [
    "#### Get Accuracy Score and Print Confusion Matrix ####"
   ]
  },
  {
   "cell_type": "code",
   "execution_count": 203,
   "metadata": {},
   "outputs": [
    {
     "name": "stdout",
     "output_type": "stream",
     "text": [
      "Accuracy Score: 96.6 percent\n"
     ]
    }
   ],
   "source": [
    "from sklearn.metrics import accuracy_score\n",
    "print(\"Accuracy Score:\",accuracy_score(y_test, test_predict).round(3)*100, \"percent\")"
   ]
  },
  {
   "cell_type": "code",
   "execution_count": 204,
   "metadata": {},
   "outputs": [
    {
     "data": {
      "text/plain": [
       "[Text(84.4,0.5,'Predicted Label')]"
      ]
     },
     "execution_count": 204,
     "metadata": {},
     "output_type": "execute_result"
    },
    {
     "data": {
      "image/png": "[encoded data removed]",
      "text/plain": [
       "<matplotlib.figure.Figure at 0x2140cd58198>"
      ]
     },
     "metadata": {},
     "output_type": "display_data"
    }
   ],
   "source": [
    "from sklearn.metrics import confusion_matrix\n",
    "import seaborn as sns; sns.set()\n",
    "\n",
    "m = confusion_matrix(y_test, test_predict)\n",
    "\n",
    "ax = sns.heatmap(m.T, square=True, annot=True, fmt='d', cmap=\"YlGnBu\", cbar=True\n",
    "            , xticklabels=[0,1,2,3,4,5,6,7,8,9]\n",
    "            , yticklabels=[0,1,2,3,4,5,6,7,8,9])\n",
    "\n",
    "ax.set(xlabel='True Label')\n",
    "ax.set(ylabel='Predicted Label')"
   ]
  },
  {
   "cell_type": "code",
   "execution_count": null,
   "metadata": {},
   "outputs": [],
   "source": []
  }
 ],
 "metadata": {
  "kernelspec": {
   "display_name": "Python 3",
   "language": "python",
   "name": "python3"
  },
  "language_info": {
   "codemirror_mode": {
    "name": "ipython",
    "version": 3
   },
   "file_extension": ".py",
   "mimetype": "text/x-python",
   "name": "python",
   "nbconvert_exporter": "python",
   "pygments_lexer": "ipython3",
   "version": "3.6.4"
  }
 },
 "nbformat": 4,
 "nbformat_minor": 2
}
