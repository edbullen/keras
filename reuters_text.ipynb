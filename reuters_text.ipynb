{
 "cells": [
  {
   "cell_type": "markdown",
   "metadata": {},
   "source": [
    "## Experiment Classifying documents with the Reuters Data-Set ##\n",
    "\n",
    "See here: https://archive.ics.uci.edu/ml/datasets/reuters-21578+text+categorization+collection  \n",
    "and here: https://keras.io/datasets/  \n",
    "for details about the data-set.\n",
    "\n",
    "Example copied from posting here: http://hunterheidenreich.com/blog/keras-text-classification-part-1/  \n",
    "\n",
    "See also https://arxiv.org/pdf/1502.01710v3.pdf  \n",
    "\n"
   ]
  },
  {
   "cell_type": "markdown",
   "metadata": {},
   "source": [
    "## Import Keras Sample Data-Set - Reuters ##"
   ]
  },
  {
   "cell_type": "code",
   "execution_count": 84,
   "metadata": {},
   "outputs": [],
   "source": [
    "import keras\n",
    "from keras.datasets import reuters"
   ]
  },
  {
   "cell_type": "code",
   "execution_count": 85,
   "metadata": {},
   "outputs": [
    {
     "name": "stdout",
     "output_type": "stream",
     "text": [
      "# of Training Samples: 8982\n",
      "# of Test Samples: 2246\n",
      "# of Classes: 46\n"
     ]
    }
   ],
   "source": [
    "(x_train, y_train), (x_test, y_test) = reuters.load_data(num_words=None, test_split=0.2)\n",
    "word_index = reuters.get_word_index(path=\"reuters_word_index.json\")\n",
    "\n",
    "print('# of Training Samples: {}'.format(len(x_train)))\n",
    "print('# of Test Samples: {}'.format(len(x_test)))\n",
    "\n",
    "num_classes = max(y_train) + 1\n",
    "print('# of Classes: {}'.format(num_classes))"
   ]
  },
  {
   "cell_type": "code",
   "execution_count": 86,
   "metadata": {},
   "outputs": [
    {
     "data": {
      "text/plain": [
       "array([ 3,  4,  3, ..., 25,  3, 25], dtype=int64)"
      ]
     },
     "execution_count": 86,
     "metadata": {},
     "output_type": "execute_result"
    }
   ],
   "source": [
    "y_train"
   ]
  },
  {
   "cell_type": "markdown",
   "metadata": {},
   "source": [
    "#### Define an index to lookup the classifications in the data-set ####"
   ]
  },
  {
   "cell_type": "code",
   "execution_count": 87,
   "metadata": {},
   "outputs": [],
   "source": [
    "class_lookup={'copper': 6, 'livestock': 28, 'gold': 25, 'money-fx': 19, 'ipi': 30, 'trade': 11, 'cocoa': 0, 'iron-steel': 31, 'reserves': 12, 'tin': 26, 'zinc': 37, 'jobs': 34, 'ship': 13, 'cotton': 14, 'alum': 23, 'strategic-metal': 27, 'lead': 45, 'housing': 7, 'meal-feed': 22, 'gnp': 21, 'sugar': 10, 'rubber': 32, 'dlr': 40, 'veg-oil': 2, 'interest': 20, 'crude': 16, 'coffee': 9, 'wheat': 5, 'carcass': 15, 'lei': 35, 'gas': 41, 'nat-gas': 17, 'oilseed': 24, 'orange': 38, 'heat': 33, 'wpi': 43, 'silver': 42, 'cpi': 18, 'earn': 3, 'bop': 36, 'money-supply': 8, 'hog': 44, 'acq': 4, 'pet-chem': 39, 'grain': 1, 'retail': 29}\n",
    "class_rev_lookup = dict([(v, k) for k, v in class_lookup.items()])\n",
    "\n",
    "word_rev_index = dict([(v, k) for k, v in word_index.items()])"
   ]
  },
  {
   "cell_type": "code",
   "execution_count": 88,
   "metadata": {},
   "outputs": [
    {
     "data": {
      "text/plain": [
       "6"
      ]
     },
     "execution_count": 88,
     "metadata": {},
     "output_type": "execute_result"
    }
   ],
   "source": [
    "class_lookup['copper']"
   ]
  },
  {
   "cell_type": "code",
   "execution_count": 89,
   "metadata": {},
   "outputs": [
    {
     "data": {
      "text/plain": [
       "'copper'"
      ]
     },
     "execution_count": 89,
     "metadata": {},
     "output_type": "execute_result"
    }
   ],
   "source": [
    "class_rev_lookup[6]"
   ]
  },
  {
   "cell_type": "markdown",
   "metadata": {},
   "source": [
    "## Explore the Data ##\n",
    "Take a look at the training data and y classification for a specefic item `i` :"
   ]
  },
  {
   "cell_type": "code",
   "execution_count": 90,
   "metadata": {},
   "outputs": [
    {
     "name": "stdout",
     "output_type": "stream",
     "text": [
      "CLASS:  jobs\n",
      "['the', 'payable', 'interests', 'services', 'option', 'february', 'international', 'and', 'for', 'ltd', 'dlrs', 'new', 'is', 'a', 'dollar', 'in', '550', 'currency', 'in', 'three', 'prepared', 'resisted', 'option', 'near', 'month', 'at', 'record', 'ago', 'a', 'nutrition', 'prices', 'its', 'in', 'early', 'ltd', 'billion', 'also', 'is', 'a', 'only', 'in', 'going', '26', '3', 'manufacturer', 'way', 'mln', 'option', 'u', 'prices', 'its', 'billion', 'trade', 'is', 'for', '2', '11', 'turn', 'dollar', 'option', 'operation', 'from', '250', 'vs', 'produced', 'prices', 'its', 'from', 'directors', 'vs', 'a', 'only', '3', 'from', 'brazil', 'vs', 'for', '2', '11', 'expansionary', 'option', 'a', 'dollar', 'j', 'with', 'billion', 'also', 'is', 'stop', 'and', 'in', 'third', '550', 'subsidiary', 'agriculture', 'have', 'only', 'ltd', 'expansionary', 'arrranged', 'said', 'dlrs', 'from', 'is', 'u', 'agriculture', 'a', 'what', 'but', 'fault', 'option', 'a', 'dollar', 'j', 'with', 'dlrs', 'new', 'is', 'stop', 'and', 'in', 'ltd', 'subsidiary', 'pakistan', 'a', 'price', '54', 'development', '3', 'only', 'have', '2', 'peter', 'ltd', 'dlrs', 'new', 'is', 'option', 'february', 'unemployment', 'impression', 'its', 'company', 'said', 'away', 'a', 'investor', '45', 'settlement', 'a', 'companies', 'us', 'need', 'sale', 'and', 'in', 'semi', 'taking', 'requires', 'we', 'in', 'offer', 'spokesman', 'mln', 'medium', 'a', 'investor', '45', 'investment', 'noranda', 'on', 'its', 'for', '2', '11', 'and', 'countries', 'foreign', 'vs', 'continue', 'from', 'again', 'vs', 'fla', 'a', 'in', 'atlantic', 'when', 'markets', 'harcourt', 'on', 'its', 'for', '2', '11', '3', 'from', 'employment', 'vs', 'a', 'louvre', '45', '22', 'loss', 'nico', '3', 'potato', 'markets', 'storage', 'on', 'pct', 'dlrs']\n"
     ]
    }
   ],
   "source": [
    "text = []\n",
    "i=200\n",
    "for word in x_train[i]:\n",
    "    text.append(word_rev_index[word])\n",
    "print(\"CLASS: \", class_rev_lookup[y_train[i]])    \n",
    "print(text)"
   ]
  },
  {
   "cell_type": "markdown",
   "metadata": {},
   "source": [
    "So - we see a list of words associated with one of 46 classes of news."
   ]
  },
  {
   "cell_type": "markdown",
   "metadata": {},
   "source": [
    "## Tokenise the Text ##\n",
    "\n",
    "Use the Keras `Tokenizer` (see https://keras.io/preprocessing/text/ ) to convert the text into a one-hot-encoded matrix\n",
    "using `sequences_to_matrix`"
   ]
  },
  {
   "cell_type": "code",
   "execution_count": 91,
   "metadata": {},
   "outputs": [],
   "source": [
    "from keras.preprocessing.text import Tokenizer\n",
    "\n",
    "max_words = 10000\n",
    "\n",
    "tokenizer = Tokenizer(num_words=max_words)\n",
    "x_train = tokenizer.sequences_to_matrix(x_train, mode='binary')\n",
    "x_test = tokenizer.sequences_to_matrix(x_test, mode='binary')\n",
    "\n",
    "y_train = keras.utils.to_categorical(y_train, num_classes)\n",
    "y_test = keras.utils.to_categorical(y_test, num_classes)"
   ]
  },
  {
   "cell_type": "code",
   "execution_count": 92,
   "metadata": {},
   "outputs": [
    {
     "data": {
      "text/plain": [
       "10000"
      ]
     },
     "execution_count": 92,
     "metadata": {},
     "output_type": "execute_result"
    }
   ],
   "source": [
    "len(x_train[0])"
   ]
  },
  {
   "cell_type": "markdown",
   "metadata": {},
   "source": [
    "## Build A Model ##"
   ]
  },
  {
   "cell_type": "code",
   "execution_count": 93,
   "metadata": {},
   "outputs": [],
   "source": [
    "from keras.models import Sequential\n",
    "from keras.layers import Dense, Dropout, Activation\n",
    "\n",
    "model = Sequential()\n",
    "model.add(Dense(1024, input_shape=(max_words,), activation='relu'))\n",
    "model.add(Dense(512, activation='relu'))\n",
    "#model.add()\n",
    "model.add(Dropout(0.2))\n",
    "model.add(Dense(num_classes))\n",
    "model.add(Activation('softmax'))"
   ]
  },
  {
   "cell_type": "markdown",
   "metadata": {},
   "source": [
    "#### Compile ####"
   ]
  },
  {
   "cell_type": "code",
   "execution_count": 94,
   "metadata": {},
   "outputs": [
    {
     "name": "stdout",
     "output_type": "stream",
     "text": [
      "['loss', 'acc']\n"
     ]
    }
   ],
   "source": [
    "model.compile(loss='categorical_crossentropy', optimizer='adam', metrics=['accuracy'])\n",
    "print(model.metrics_names)"
   ]
  },
  {
   "cell_type": "code",
   "execution_count": 95,
   "metadata": {},
   "outputs": [
    {
     "name": "stdout",
     "output_type": "stream",
     "text": [
      "Train on 8083 samples, validate on 899 samples\n",
      "Epoch 1/5\n",
      "8083/8083 [==============================] - 39s 5ms/step - loss: 1.2104 - acc: 0.7275 - val_loss: 0.9726 - val_acc: 0.7842\n",
      "Epoch 2/5\n",
      "8083/8083 [==============================] - 39s 5ms/step - loss: 0.4164 - acc: 0.8990 - val_loss: 0.9649 - val_acc: 0.7887\n",
      "Epoch 3/5\n",
      "8083/8083 [==============================] - 40s 5ms/step - loss: 0.2196 - acc: 0.9478 - val_loss: 1.0373 - val_acc: 0.7820\n",
      "Epoch 4/5\n",
      "8083/8083 [==============================] - 38s 5ms/step - loss: 0.1756 - acc: 0.9536 - val_loss: 1.0473 - val_acc: 0.8020\n",
      "Epoch 5/5\n",
      "8083/8083 [==============================] - 39s 5ms/step - loss: 0.1406 - acc: 0.9540 - val_loss: 1.0416 - val_acc: 0.7931\n",
      "2246/2246 [==============================] - 1s 565us/step\n"
     ]
    }
   ],
   "source": [
    "batch_size = 32\n",
    "epochs = 5\n",
    "\n",
    "hist = model.fit(x_train, y_train, batch_size=batch_size, epochs=epochs, verbose=1, validation_split=0.1)\n",
    "score = model.evaluate(x_test, y_test, batch_size=batch_size, verbose=1)\n"
   ]
  },
  {
   "cell_type": "code",
   "execution_count": 96,
   "metadata": {},
   "outputs": [
    {
     "name": "stdout",
     "output_type": "stream",
     "text": [
      "Test loss: 1.051188047082957\n",
      "Test accuracy: 0.8005342832231565\n"
     ]
    }
   ],
   "source": [
    "print('Test loss:', score[0])\n",
    "print('Test accuracy:', score[1])"
   ]
  },
  {
   "cell_type": "code",
   "execution_count": 97,
   "metadata": {},
   "outputs": [
    {
     "data": {
      "image/png": "[encoded data removed]",
      "text/plain": [
       "<matplotlib.figure.Figure at 0x22b7de0a240>"
      ]
     },
     "metadata": {},
     "output_type": "display_data"
    }
   ],
   "source": [
    "import matplotlib.pyplot as plt\n",
    "plt.plot(hist.history['loss'],'b')\n",
    "plt.xlabel(\"Epoc\", fontsize=16)\n",
    "plt.ylabel(\"Training Loss\", fontsize=16)\n",
    "plt.show()"
   ]
  },
  {
   "cell_type": "code",
   "execution_count": null,
   "metadata": {},
   "outputs": [],
   "source": []
  },
  {
   "cell_type": "code",
   "execution_count": null,
   "metadata": {},
   "outputs": [],
   "source": []
  }
 ],
 "metadata": {
  "kernelspec": {
   "display_name": "Python 3",
   "language": "python",
   "name": "python3"
  },
  "language_info": {
   "codemirror_mode": {
    "name": "ipython",
    "version": 3
   },
   "file_extension": ".py",
   "mimetype": "text/x-python",
   "name": "python",
   "nbconvert_exporter": "python",
   "pygments_lexer": "ipython3",
   "version": "3.6.4"
  }
 },
 "nbformat": 4,
 "nbformat_minor": 2
}
